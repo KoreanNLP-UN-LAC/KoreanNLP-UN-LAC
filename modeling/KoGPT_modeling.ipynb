{
  "cells": [
    {
      "cell_type": "markdown",
      "metadata": {
        "id": "Gk4S8I3qc9Xe"
      },
      "source": [
        "transformers: 사전학습된 NLP 모델과 토크나이저 제공 라이브러리\n",
        "\n",
        "  - AutoTokenizer: 모델 적합 토크나이저(text->token ID) 자동 로딩\n",
        "\n",
        "  - AutoModelForCausalLM: CausalLanguageModeling(자연어 생성, **왼->오 순차적 단어 예측 및 생성**) 적합 모델 자동 로딩\n",
        "\n",
        "peft: 유효한 파라미터 파인 튜닝을 돕는 모듈 라이브러리. Prefix 튜닝도 PEFT 기법 中 하나\n",
        "\n",
        "  - get_peft_model: PEFT 설정을 통해 모델에 적용되는(감싸는) 함수\n",
        "\n",
        "  - PrefixTuningConfig: Prefix Tuning 설정을 위한 구성 클래스\n",
        "\n",
        "  - TaskType: 작업 유형(ex.Causal_LM, Seq_CLS)에 따라 적용 PEFT 결정"
      ]
    },
    {
      "cell_type": "code",
      "execution_count": null,
      "metadata": {
        "id": "mwHGTVgWWyRP"
      },
      "outputs": [],
      "source": [
        "from transformers import AutoTokenizer, AutoModelForCausalLM\n",
        "from peft import get_peft_model, PrefixTuningConfig, TaskType\n",
        "\n",
        "# KoGPT-2 모델 및 토크나이저 로드\n",
        "model_name = \"skt/kogpt2-base-v2\"\n",
        "tokenizer = AutoTokenizer.from_pretrained(model_name) # 모델 적합 토크나이저 자동 로드\n",
        "model = AutoModelForCausalLM.from_pretrained(model_name) # causalLM 작업에 적절한 모델(KoGPT2) 로드\n",
        "\n",
        "# pad_token이 없으면 추가\n",
        "if tokenizer.pad_token is None:\n",
        "    tokenizer.add_special_tokens({'pad_token': '[PAD]'})  # 새롭게 PAD 토큰 추가\n",
        "    model.resize_token_embeddings(len(tokenizer))         # 모델 vocab 크기도 늘려줌\n"
      ]
    },
    {
      "cell_type": "markdown",
      "metadata": {
        "id": "OS-swiUIewE8"
      },
      "source": [
        "**Pad Token**\n",
        "\n",
        "=> Prefix 튜닝에서 padding(여러 문장 입력 시, **가장 긴 문장을 기준으로 입력 길이 통일**) 요구됨.\n",
        "\n",
        "\n",
        "---\n",
        "\n",
        "\n",
        "ex. 입력 문장 토큰 길이=5 지정 시,\n",
        "\n",
        "[\"나는\", \"간다\", \"[PAD]\", \"[PAD]\", \"[PAD]\"]\n",
        "\n",
        "attention_mask = [1, 1, 0, 0, 0]\n",
        "\n",
        "=> [PAD] 는 무시하고 유효한 실제 토큰만 계산\n",
        "\n",
        "---\n",
        "\n",
        "\n",
        "\n",
        "=> GPT 계열 모델에서 PAD 토큰이 없는 경우 多\n",
        "\n",
        "=> Pad 토큰 직접 추가 -> 모델 vocab 크기 늘어남 -> 모델 embedding 테이블 크기(embedding layer)도 늘려줘야 함."
      ]
    },
    {
      "cell_type": "code",
      "execution_count": null,
      "metadata": {
        "id": "QTcqVmN6W_Zk"
      },
      "outputs": [],
      "source": [
        "# Prefix 튜닝 세팅\n",
        "prefix_config = PrefixTuningConfig(\n",
        "    task_type=TaskType.CAUSAL_LM, # Task 종류(Causal_LM) 지정\n",
        "    num_virtual_tokens=25, # Prefix 토큰 수 지정\n",
        "    prefix_projection=True, # Prefix 토큰 선형(Projection layer) 변환 여부\n",
        "    inference_mode=False # True: 학습없이 생성만, False: 학습모드\n",
        ")\n",
        "model = get_peft_model(model, prefix_config) # Prefix 튜닝 구조로 모델 적용(감싸기)"
      ]
    },
    {
      "cell_type": "markdown",
      "metadata": {
        "id": "MNUB6ezARWuf"
      },
      "source": [
        "내부구조\n",
        "\n",
        "=> [Input Text] → [Prefix Embeddings (10개)] → [KoGPT2 (고정)] → [Output]"
      ]
    },
    {
      "cell_type": "markdown",
      "metadata": {
        "id": "qdxWZzX4TmjY"
      },
      "source": [
        "**List comperhension** (반복되는 객체를 새로운 리스트로 생성)\n",
        "\n",
        "  - [표현식 for 변수 in 반복 가능한 객체]\n",
        "\n",
        "\n",
        "  - ex. numbers = [x * 2 for x in range(5)] → [0, 2, 4, 6, 8]\n"
      ]
    },
    {
      "cell_type": "code",
      "execution_count": null,
      "metadata": {
        "id": "TMZCdxdJ48VP"
      },
      "outputs": [],
      "source": [
        "import pandas as pd\n",
        "\n",
        "# 학습용 정제된 시, 발라드 데이터 로드(200, 100개씩 제한)\n",
        "poem_df = pd.read_csv(\"poems_final_pp_4040.csv\",encoding=\"utf-8-sig\")\n",
        "# ballard_df = pd.read_csv(\"Ballard_Lyrics_Cleaned_517.csv\", encoding=\"utf-8-sig\")\n",
        "# indie_df = pd.read_csv(\"Indie_Lyrics_Cleaned_567.csv\", encoding=\"utf-8-sig\")\n",
        "hiphop_df = pd.read_csv(\"HipHop_Lyrics_Cleaned_600.csv\", encoding=\"utf-8-sig\")\n",
        "\n",
        "# list comperhension(반복되는 객체를 새로운 리스트로 생성)\n",
        "# 시 데이터셋을 poems_texts로 구성\n",
        "poem_texts = [f\"제목: {row['제목']}\\n내용: {row['내용']}\" for _, row in poem_df.iterrows()]\n",
        "# _ : 사용하지 않는 변수에 대해 생략의 의미\n",
        "# df.iterrows(): df의 한 행씩 반복 => (index, row Series data)\n",
        "# 발라드/인디/힙합 장르별 가사 데이터셋을 ()_texts로 구성\n",
        "# ballard_texts = [f\"제목: {row['제목']}\\n가사: {row['가사']}\" for _, row in ballard_df.iterrows()]\n",
        "# indie_texts = [f\"제목: {row['제목']}\\n가사: {row['가사']}\" for _, row in indie_df.iterrows()]\n",
        "hiphop_texts = [f\"제목: {row['제목']}\\n가사: {row['가사']}\" for _, row in hiphop_df.iterrows()]"
      ]
    },
    {
      "cell_type": "code",
      "execution_count": null,
      "metadata": {
        "id": "5j6YLzz0XAAG"
      },
      "outputs": [],
      "source": [
        "from datasets import Dataset\n",
        "from sklearn.model_selection import train_test_split\n",
        "\n",
        "poem_train, poem_test = train_test_split(poem_texts, test_size=0.2, random_state=42)\n",
        "# ballard_train, ballard_test = train_test_split(ballard_texts, test_size=0.2, random_state=42)\n",
        "# indie_train, indie_test = train_test_split(indie_texts, test_size=0.2, random_state=42)\n",
        "hiphop_train, hiphop_test = train_test_split(hiphop_texts, test_size=0.2, random_state=42)\n",
        "\n",
        "# 시 데이터 리스트와 발라드 가사 데이터 리스트 합치기\n",
        "# combined_train_texts = poem_train + ballard_train\n",
        "# combined_test_texts = poem_test + ballard_test\n",
        "# 시 데이터 리스트와 인디 가사 데이터 리스트 합치기\n",
        "# combined_train_texts = poem_train + indie_train\n",
        "# combined_test_texts = poem_test + indie_test\n",
        "# 시 데이터 리스트와 힙합 가사 데이터 리스트 합치기\n",
        "combined_train_texts = poem_train + hiphop_train\n",
        "combined_test_texts = poem_test + hiphop_test\n",
        "\n",
        "# Train / Test Dataset 객체 생성\n",
        "train_dataset = Dataset.from_dict({\"text\": combined_train_texts})\n",
        "test_dataset = Dataset.from_dict({\"text\": combined_test_texts})"
      ]
    },
    {
      "cell_type": "markdown",
      "metadata": {
        "id": "9EbMBGp4XYmF"
      },
      "source": [
        "토크나이저 사용\n",
        "\n",
        "-> \"key:text\" 일 때 토크나이저가 데이터로 인식함.\n",
        "\n",
        "-> input_ids(입력 데이터의 벡터 인덱스) 자동 생성\n",
        "\n",
        "-> input_ids를 기반으로 labels(예측해야하는 데이터의 벡터 인덱스) 세팅이 가능함."
      ]
    },
    {
      "cell_type": "code",
      "execution_count": null,
      "metadata": {
        "colab": {
          "base_uri": "https://localhost:8080/",
          "height": 81,
          "referenced_widgets": [
            "13687fb0e01e4b9b8309f03121bd531a",
            "57d9453dd0694c659882a1f7e34a7d2a",
            "ed5333e39b8449daa8aa9792dc2bae5e",
            "dc5a48c94343402f9d19e4380c7e6f8e",
            "6515b6d6d5b24fc1b8fe288a26301879",
            "e15e418d3ad545d1bafaa9b8d11bd633",
            "b369bf8c7a904343b71e24e618c9bd22",
            "5ac5983508d647d4a16bdc2bda766380",
            "d40c70aa29574527ad8a5eb7f17157f5",
            "6eb6b0b2833d42d4a623418d4c89d640",
            "c2a5d7fef570412a8e7f3e9438c79b84",
            "e6ea22d3ecdf4a2dbe5d9a87195e588b",
            "652450431ed14f9f8146bff241db80f9",
            "dee007a0c3b140cf846e2c727e70f2e9",
            "ce4889c5c2f5460b8286b5a0945e4ac6",
            "fdd35057d10049f696b52ba51fafa162",
            "91f2085342d244f9be63324f9d8fd27a",
            "c303d78d5ec14b84804c0e3a6a945d62",
            "a622cc233e5240c591418c04a358f35b",
            "405382cbf6144035844bc5fc6d4088cc",
            "653d72786f8f4a2babda8f741e89d90c",
            "8c615ea2ccd94849bfeb64f57733cb38"
          ]
        },
        "id": "urQmQoreXAHN",
        "outputId": "61e55728-792b-4710-8123-f022d4beef52"
      },
      "outputs": [
        {
          "data": {
            "application/vnd.jupyter.widget-view+json": {
              "model_id": "13687fb0e01e4b9b8309f03121bd531a",
              "version_major": 2,
              "version_minor": 0
            },
            "text/plain": [
              "Map:   0%|          | 0/3712 [00:00<?, ? examples/s]"
            ]
          },
          "metadata": {},
          "output_type": "display_data"
        },
        {
          "data": {
            "application/vnd.jupyter.widget-view+json": {
              "model_id": "e6ea22d3ecdf4a2dbe5d9a87195e588b",
              "version_major": 2,
              "version_minor": 0
            },
            "text/plain": [
              "Map:   0%|          | 0/928 [00:00<?, ? examples/s]"
            ]
          },
          "metadata": {},
          "output_type": "display_data"
        }
      ],
      "source": [
        "# 토크나이징\n",
        "def tokenize(example):\n",
        "    enc = tokenizer(example[\"text\"], truncation=True, padding=\"max_length\", max_length=512)\n",
        "    # truncation=True : 최대 토큰 길이보다 길면 자름\n",
        "    # 문장 최대 토큰 길이 = max_length(256) -> PAD 토큰 사용의 기준\n",
        "    enc[\"labels\"] = enc[\"input_ids\"].copy()\n",
        "    return enc\n",
        "\n",
        "# 전체 Dataset(train/test 모두) 토크나이징 적용\n",
        "tokenized_train = train_dataset.map(tokenize)\n",
        "tokenized_test = test_dataset.map(tokenize)\n",
        "# batched=True(text 데이터를 리스트로 입력받아 빠르게 학습, 보편적으로 성능 높아짐) => 추후 시도해볼것"
      ]
    },
    {
      "cell_type": "markdown",
      "metadata": {
        "id": "LevQyVsDY-fp"
      },
      "source": [
        "***dataset 데이터셋 구조***\n",
        "\n",
        "DatasetDict(300)({\n",
        "\n",
        "  train: Dataset({\n",
        "\n",
        "    features: ['text'],\n",
        "    \n",
        "    num_rows: 240\n",
        "  \n",
        "  }),\n",
        "  \n",
        "  test: Dataset({\n",
        "    \n",
        "    features: ['text'],\n",
        "    \n",
        "    num_rows: 60\n",
        "  \n",
        "  })\n",
        "\n",
        "})"
      ]
    },
    {
      "cell_type": "markdown",
      "metadata": {
        "id": "k9457sSLZa1I"
      },
      "source": [
        "***tokenized 데이터셋 구조***\n",
        "\n",
        "DatasetDict(300)({\n",
        "\n",
        "  train: Dataset({\n",
        "\n",
        "    features: ['input_ids', 'attention_mark', 'labels'],\n",
        "    \n",
        "    num_rows: 240\n",
        "  \n",
        "  }),\n",
        "  \n",
        "  test: Dataset({\n",
        "    \n",
        "    features: ['input_ids', 'attention_mask', 'labels'],\n",
        "    \n",
        "    num_rows: 60\n",
        "  \n",
        "  })\n",
        "\n",
        "})"
      ]
    },
    {
      "cell_type": "markdown",
      "metadata": {
        "id": "LX5fEmy8Z81M"
      },
      "source": [
        "dataset[\"train\"][0][\"text\"]  => 실제 데이터 확인\n",
        "\n",
        "tokenized[\"train\"][0][\"input_ids\"]  => 토큰 ID(입력 데이터의 벡터 변환값) 확인"
      ]
    },
    {
      "cell_type": "code",
      "execution_count": null,
      "metadata": {
        "colab": {
          "base_uri": "https://localhost:8080/",
          "height": 702
        },
        "collapsed": true,
        "id": "jReODwgCXATN",
        "outputId": "98e56d93-22dc-4843-d2e0-8f860434e63e"
      },
      "outputs": [
        {
          "name": "stderr",
          "output_type": "stream",
          "text": [
            "/tmp/ipython-input-227687501.py:21: FutureWarning: `tokenizer` is deprecated and will be removed in version 5.0.0 for `Trainer.__init__`. Use `processing_class` instead.\n",
            "  trainer = Trainer(\n",
            "No label_names provided for model class `PeftModelForCausalLM`. Since `PeftModel` hides base models input arguments, if label_names is not given, label_names can't be set automatically within `Trainer`. Note that empty label_names list will be used instead.\n"
          ]
        },
        {
          "data": {
            "text/html": [
              "\n",
              "    <div>\n",
              "      \n",
              "      <progress value='3972' max='4640' style='width:300px; height:20px; vertical-align: middle;'></progress>\n",
              "      [3972/4640 1:06:37 < 11:12, 0.99 it/s, Epoch 8.56/10]\n",
              "    </div>\n",
              "    <table border=\"1\" class=\"dataframe\">\n",
              "  <thead>\n",
              " <tr style=\"text-align: left;\">\n",
              "      <th>Epoch</th>\n",
              "      <th>Training Loss</th>\n",
              "      <th>Validation Loss</th>\n",
              "    </tr>\n",
              "  </thead>\n",
              "  <tbody>\n",
              "    <tr>\n",
              "      <td>1</td>\n",
              "      <td>8.541600</td>\n",
              "      <td>8.677663</td>\n",
              "    </tr>\n",
              "    <tr>\n",
              "      <td>2</td>\n",
              "      <td>8.569300</td>\n",
              "      <td>8.589561</td>\n",
              "    </tr>\n",
              "    <tr>\n",
              "      <td>3</td>\n",
              "      <td>8.638100</td>\n",
              "      <td>8.553997</td>\n",
              "    </tr>\n",
              "    <tr>\n",
              "      <td>4</td>\n",
              "      <td>8.610600</td>\n",
              "      <td>8.532522</td>\n",
              "    </tr>\n",
              "    <tr>\n",
              "      <td>5</td>\n",
              "      <td>8.459700</td>\n",
              "      <td>8.519883</td>\n",
              "    </tr>\n",
              "    <tr>\n",
              "      <td>6</td>\n",
              "      <td>8.516400</td>\n",
              "      <td>8.512033</td>\n",
              "    </tr>\n",
              "    <tr>\n",
              "      <td>7</td>\n",
              "      <td>8.639900</td>\n",
              "      <td>8.506444</td>\n",
              "    </tr>\n",
              "    <tr>\n",
              "      <td>8</td>\n",
              "      <td>8.620000</td>\n",
              "      <td>8.503527</td>\n",
              "    </tr>\n",
              "  </tbody>\n",
              "</table><p>"
            ],
            "text/plain": [
              "<IPython.core.display.HTML object>"
            ]
          },
          "metadata": {},
          "output_type": "display_data"
        },
        {
          "name": "stderr",
          "output_type": "stream",
          "text": [
            "/usr/local/lib/python3.11/dist-packages/peft/utils/save_and_load.py:300: UserWarning: Setting `save_embedding_layers` to `True` as the embedding layer has been resized during finetuning.\n",
            "  warnings.warn(\n",
            "/usr/local/lib/python3.11/dist-packages/peft/utils/save_and_load.py:300: UserWarning: Setting `save_embedding_layers` to `True` as the embedding layer has been resized during finetuning.\n",
            "  warnings.warn(\n",
            "/usr/local/lib/python3.11/dist-packages/peft/utils/save_and_load.py:300: UserWarning: Setting `save_embedding_layers` to `True` as the embedding layer has been resized during finetuning.\n",
            "  warnings.warn(\n",
            "/usr/local/lib/python3.11/dist-packages/peft/utils/save_and_load.py:300: UserWarning: Setting `save_embedding_layers` to `True` as the embedding layer has been resized during finetuning.\n",
            "  warnings.warn(\n",
            "/usr/local/lib/python3.11/dist-packages/peft/utils/save_and_load.py:300: UserWarning: Setting `save_embedding_layers` to `True` as the embedding layer has been resized during finetuning.\n",
            "  warnings.warn(\n",
            "/usr/local/lib/python3.11/dist-packages/peft/utils/save_and_load.py:300: UserWarning: Setting `save_embedding_layers` to `True` as the embedding layer has been resized during finetuning.\n",
            "  warnings.warn(\n",
            "/usr/local/lib/python3.11/dist-packages/peft/utils/save_and_load.py:300: UserWarning: Setting `save_embedding_layers` to `True` as the embedding layer has been resized during finetuning.\n",
            "  warnings.warn(\n",
            "/usr/local/lib/python3.11/dist-packages/peft/utils/save_and_load.py:300: UserWarning: Setting `save_embedding_layers` to `True` as the embedding layer has been resized during finetuning.\n",
            "  warnings.warn(\n"
          ]
        }
      ],
      "source": [
        "from transformers import TrainingArguments, Trainer, EarlyStoppingCallback\n",
        "\n",
        "training_args = TrainingArguments(\n",
        "    output_dir=\"./kogpt_skt_results\", # 학습 결과물 저장할 디렉토리 지정\n",
        "    num_train_epochs=10, # 학습 에폭 수(= 전체 데이터 반복학습 횟수), 일반적 3~5\n",
        "    per_device_train_batch_size=8, # 한번에 학습할 데이터 개수\n",
        "    per_device_eval_batch_size=8,\n",
        "    learning_rate=5e-6, # 안정적 학습률 추가\n",
        "    logging_strategy=\"steps\", # Train loss log 남기기 위함\n",
        "    logging_steps=10, # 기록할 스텝 단위\n",
        "    logging_dir=\"./logs\",\n",
        "    eval_strategy = \"epoch\", # logging_steps 마다 평가 진행\n",
        "    save_total_limit=1, # 체크포인트 저장 개수\n",
        "    save_strategy=\"epoch\", # epoch 마다 모델 저장, 최종적으로 가장 성능 좋은 모델 1개 유지\n",
        "    load_best_model_at_end=False,\n",
        "    # Trainer: 전체 모델 weight 포함 저장, peft: Prefix adapter만 저장 -> mismatch -> 모델 수동 로드\n",
        "    report_to=\"none\"\n",
        ")\n",
        "\n",
        "# Trainer(AdamW 옵티마이저 사용) 학습\n",
        "trainer = Trainer(\n",
        "    model=model,\n",
        "    args=training_args,\n",
        "    train_dataset=tokenized_train,\n",
        "    eval_dataset=tokenized_test,\n",
        "    tokenizer=tokenizer\n",
        ")\n",
        "\n",
        "trainer.train()"
      ]
    },
    {
      "cell_type": "code",
      "execution_count": null,
      "metadata": {
        "colab": {
          "base_uri": "https://localhost:8080/"
        },
        "id": "O2MJ_i6XeV4g",
        "outputId": "92388ad5-663e-4f25-935e-f32cec90b342"
      },
      "outputs": [
        {
          "name": "stdout",
          "output_type": "stream",
          "text": [
            "최적 모델 경로(checkpoint): ./kogpt_skt_results/checkpoint-4610\n"
          ]
        }
      ],
      "source": [
        "# evaluation loss 기반 최적의 checkpoint 모델 찾기\n",
        "# log_history 중 eval_loss 있는 것만 추출\n",
        "eval_logs = [log for log in trainer.state.log_history if 'eval_loss' in log]\n",
        "\n",
        "# eval_loss 기준 가장 낮은 로그 탐색\n",
        "best_model_log = min(eval_logs, key=lambda x: x['eval_loss'])\n",
        "\n",
        "# 해당 스텝\n",
        "best_model_step = best_model_log['step']\n",
        "\n",
        "# 해당 checkpoint 경로\n",
        "best_ckpt_path = f\"./kogpt_skt_results/checkpoint-{best_model_step}\"\n",
        "print(f\"최적 모델 경로(checkpoint): {best_ckpt_path}\")"
      ]
    },
    {
      "cell_type": "markdown",
      "metadata": {
        "id": "Z5iA8xJFM-m3"
      },
      "source": [
        "모델 평가 지표\n",
        "\n",
        "- Training Loss: Train data set에 대한 모델 학습 정도(낮을수록 Train data set에 대해 잘 학습된 모델)\n",
        "\n",
        "- Evaluation Loss: Validation data set에 대한 모델 예측 정도(낮을수록 일반화 성능 굿)\n",
        "\n",
        "- Perplexity: 생성 결과의 혼란도 측정(낮을수록 문맥 예측 성능 굿)"
      ]
    },
    {
      "cell_type": "code",
      "execution_count": null,
      "metadata": {
        "id": "owCJCN7jCwlF"
      },
      "outputs": [],
      "source": [
        "# 가장 낮은 eval_loss 모델과 토크나이저 로드\n",
        "from peft import PeftModelForCausalLM\n",
        "from transformers import AutoTokenizer, AutoModelForCausalLM\n",
        "\n",
        "tokenizer = AutoTokenizer.from_pretrained(best_ckpt_path)\n",
        "\n",
        "base_model = AutoModelForCausalLM.from_pretrained(\"skt/kogpt2-base-v2\")\n",
        "base_model.resize_token_embeddings(len(tokenizer))\n",
        "model = PeftModelForCausalLM.from_pretrained(base_model, best_ckpt_path)"
      ]
    },
    {
      "cell_type": "code",
      "execution_count": null,
      "metadata": {
        "colab": {
          "base_uri": "https://localhost:8080/",
          "height": 935
        },
        "id": "_NB3z1nLMBP2",
        "outputId": "335e9d03-77bd-4e39-8501-e33993b32178"
      },
      "outputs": [
        {
          "name": "stderr",
          "output_type": "stream",
          "text": [
            "/tmp/ipython-input-2366283674.py:6: FutureWarning: `tokenizer` is deprecated and will be removed in version 5.0.0 for `Trainer.__init__`. Use `processing_class` instead.\n",
            "  trainer = Trainer(\n",
            "No label_names provided for model class `PeftModelForCausalLM`. Since `PeftModel` hides base models input arguments, if label_names is not given, label_names can't be set automatically within `Trainer`. Note that empty label_names list will be used instead.\n"
          ]
        },
        {
          "data": {
            "text/html": [
              "\n",
              "    <div>\n",
              "      \n",
              "      <progress value='4610' max='4610' style='width:300px; height:20px; vertical-align: middle;'></progress>\n",
              "      [4610/4610 36:36, Epoch 10/10]\n",
              "    </div>\n",
              "    <table border=\"1\" class=\"dataframe\">\n",
              "  <thead>\n",
              " <tr style=\"text-align: left;\">\n",
              "      <th>Epoch</th>\n",
              "      <th>Training Loss</th>\n",
              "      <th>Validation Loss</th>\n",
              "    </tr>\n",
              "  </thead>\n",
              "  <tbody>\n",
              "    <tr>\n",
              "      <td>1</td>\n",
              "      <td>7.019900</td>\n",
              "      <td>7.067742</td>\n",
              "    </tr>\n",
              "    <tr>\n",
              "      <td>2</td>\n",
              "      <td>7.411800</td>\n",
              "      <td>7.067658</td>\n",
              "    </tr>\n",
              "    <tr>\n",
              "      <td>3</td>\n",
              "      <td>7.600700</td>\n",
              "      <td>7.067590</td>\n",
              "    </tr>\n",
              "    <tr>\n",
              "      <td>4</td>\n",
              "      <td>7.227700</td>\n",
              "      <td>7.067533</td>\n",
              "    </tr>\n",
              "    <tr>\n",
              "      <td>5</td>\n",
              "      <td>7.397500</td>\n",
              "      <td>7.067489</td>\n",
              "    </tr>\n",
              "    <tr>\n",
              "      <td>6</td>\n",
              "      <td>7.070300</td>\n",
              "      <td>7.067447</td>\n",
              "    </tr>\n",
              "    <tr>\n",
              "      <td>7</td>\n",
              "      <td>7.270200</td>\n",
              "      <td>7.067418</td>\n",
              "    </tr>\n",
              "    <tr>\n",
              "      <td>8</td>\n",
              "      <td>7.490500</td>\n",
              "      <td>7.067399</td>\n",
              "    </tr>\n",
              "    <tr>\n",
              "      <td>9</td>\n",
              "      <td>7.048100</td>\n",
              "      <td>7.067383</td>\n",
              "    </tr>\n",
              "    <tr>\n",
              "      <td>10</td>\n",
              "      <td>7.285300</td>\n",
              "      <td>7.067379</td>\n",
              "    </tr>\n",
              "  </tbody>\n",
              "</table><p>"
            ],
            "text/plain": [
              "<IPython.core.display.HTML object>"
            ]
          },
          "metadata": {},
          "output_type": "display_data"
        },
        {
          "name": "stderr",
          "output_type": "stream",
          "text": [
            "/usr/local/lib/python3.11/dist-packages/peft/utils/save_and_load.py:300: UserWarning: Setting `save_embedding_layers` to `True` as the embedding layer has been resized during finetuning.\n",
            "  warnings.warn(\n",
            "/usr/local/lib/python3.11/dist-packages/peft/utils/save_and_load.py:300: UserWarning: Setting `save_embedding_layers` to `True` as the embedding layer has been resized during finetuning.\n",
            "  warnings.warn(\n",
            "/usr/local/lib/python3.11/dist-packages/peft/utils/save_and_load.py:300: UserWarning: Setting `save_embedding_layers` to `True` as the embedding layer has been resized during finetuning.\n",
            "  warnings.warn(\n",
            "/usr/local/lib/python3.11/dist-packages/peft/utils/save_and_load.py:300: UserWarning: Setting `save_embedding_layers` to `True` as the embedding layer has been resized during finetuning.\n",
            "  warnings.warn(\n",
            "/usr/local/lib/python3.11/dist-packages/peft/utils/save_and_load.py:300: UserWarning: Setting `save_embedding_layers` to `True` as the embedding layer has been resized during finetuning.\n",
            "  warnings.warn(\n",
            "/usr/local/lib/python3.11/dist-packages/peft/utils/save_and_load.py:300: UserWarning: Setting `save_embedding_layers` to `True` as the embedding layer has been resized during finetuning.\n",
            "  warnings.warn(\n",
            "/usr/local/lib/python3.11/dist-packages/peft/utils/save_and_load.py:300: UserWarning: Setting `save_embedding_layers` to `True` as the embedding layer has been resized during finetuning.\n",
            "  warnings.warn(\n",
            "/usr/local/lib/python3.11/dist-packages/peft/utils/save_and_load.py:300: UserWarning: Setting `save_embedding_layers` to `True` as the embedding layer has been resized during finetuning.\n",
            "  warnings.warn(\n",
            "/usr/local/lib/python3.11/dist-packages/peft/utils/save_and_load.py:300: UserWarning: Setting `save_embedding_layers` to `True` as the embedding layer has been resized during finetuning.\n",
            "  warnings.warn(\n",
            "/usr/local/lib/python3.11/dist-packages/peft/utils/save_and_load.py:300: UserWarning: Setting `save_embedding_layers` to `True` as the embedding layer has been resized during finetuning.\n",
            "  warnings.warn(\n"
          ]
        },
        {
          "data": {
            "text/html": [
              "\n",
              "    <div>\n",
              "      \n",
              "      <progress value='116' max='116' style='width:300px; height:20px; vertical-align: middle;'></progress>\n",
              "      [116/116 00:20]\n",
              "    </div>\n",
              "    "
            ],
            "text/plain": [
              "<IPython.core.display.HTML object>"
            ]
          },
          "metadata": {},
          "output_type": "display_data"
        },
        {
          "name": "stdout",
          "output_type": "stream",
          "text": [
            "[최종 모델 성능]\n",
            "Training Loss:  7.2853\n",
            "Evaluation Loss:  7.0674\n",
            "Perplexity(PPL):  1173.0699\n"
          ]
        }
      ],
      "source": [
        "import torch\n",
        "import math\n",
        "from torch.utils.data import DataLoader\n",
        "\n",
        "# best checkpoint 모델 기반 trainer 재정의\n",
        "trainer = Trainer(\n",
        "    model=model,\n",
        "    args=training_args,\n",
        "    train_dataset=tokenized_train,\n",
        "    eval_dataset=tokenized_test,\n",
        "    tokenizer=tokenizer\n",
        ")\n",
        "\n",
        "trainer.train(resume_from_checkpoint=None)\n",
        "\n",
        "# evaluation 수행 및 evaluation loss, Perplexity 계산\n",
        "eval_result = trainer.evaluate()\n",
        "eval_loss = eval_result[\"eval_loss\"]\n",
        "perplexity = math.exp(eval_loss)\n",
        "\n",
        "# trainer의 log_history에서 최종 training loss 추출\n",
        "train_loss_log = [log[\"loss\"] for log in trainer.state.log_history if \"loss\" in log and \"eval_loss\" not in log]\n",
        "final_train_loss = train_loss_log[-1] if train_loss_log else None\n",
        "\n",
        "print(f\"[최종 모델 성능]\")\n",
        "print(f\"Training Loss:  {final_train_loss:.4f}\")\n",
        "print(f\"Evaluation Loss:  {eval_loss:.4f}\")\n",
        "print(f\"Perplexity(PPL):  {perplexity:.4f}\")"
      ]
    },
    {
      "cell_type": "markdown",
      "metadata": {
        "id": "hIqlpc39c4uX"
      },
      "source": [
        "Trainer는 내부적으로\n",
        "\n",
        "- DataLoader 구성\n",
        "- Optimizer 생성\n",
        "- input_ids / attention_mask / labels 세 가지 키 자동 확인 후 loss 계산\n",
        "- eval_dataset 존재 시, 평가 수행\n",
        "\n",
        "\n",
        "---\n",
        "\n",
        "*About Hugging Face, Trainer, TrainingArguments*\n",
        "\n",
        ": https://sangwonyoon.tistory.com/entry/HuggingFace-Trainer%EB%A1%9C-%EB%AA%A8%EB%8D%B8-%ED%95%99%EC%8A%B5-%EB%B0%8F-%ED%8F%89%EA%B0%80%ED%95%98%EA%B8%B0"
      ]
    },
    {
      "cell_type": "code",
      "execution_count": null,
      "metadata": {
        "id": "6zTMfAGRXIQZ"
      },
      "outputs": [],
      "source": [
        "import torch\n",
        "\n",
        "input_title = \"제목: 초록빛 향연\\n내용:\" # 명시적 프롬프트 제시\n",
        "inputs = tokenizer(input_title, return_tensors=\"pt\", padding=True) # \"pt\" : PyTorch 텐서 형식으로 변환\n",
        "input_ids = inputs[\"input_ids\"]\n",
        "attention_mask = inputs[\"attention_mask\"]\n",
        "\n",
        "device = torch.device(\"cuda\" if torch.cuda.is_available() else \"cpu\")\n",
        "\n",
        "# 입력 텐서를 모두 동일한 디바이스(GPU)로 이동\n",
        "input_ids = input_ids.to(device)\n",
        "attention_mask = attention_mask.to(device)\n",
        "model = model.to(device)\n",
        "\n",
        "output = model.generate(\n",
        "    input_ids=input_ids,\n",
        "    attention_mask=attention_mask,\n",
        "    max_new_tokens=100,\n",
        "    do_sample=True, # 샘플링 기반 랜덤 생성\n",
        "    temperature=0.8, # 확률 분포 정도 조절(높을수록 창의적)\n",
        "    top_p=0.9, # 누적 확률 p(여기서는 0.9) 이하까지만 후보로 고려\n",
        "    top_k=50, # 상위 k개 토큰만 고려\n",
        "    pad_token_id=tokenizer.pad_token_id, # PAD 토큰 없는 경우 강제 추가\n",
        "    repetition_penalty=1.2 # 반복 방지 추가\n",
        ") # 모델이 생성한 토큰 ID(백테 변환값)\n",
        "\n",
        "print(tokenizer.decode(output[0], skip_special_tokens=True))\n",
        "# skip_special_tokens=True : PAD, EOS 토큰 생략\n"
      ]
    },
    {
      "cell_type": "code",
      "execution_count": null,
      "metadata": {
        "id": "LW0YOH6xeQzf"
      },
      "outputs": [],
      "source": [
        "# 추가해보면 좋을 것들\n",
        "# 02. 학습 후 모델/토크나이저 저장(파라미터 보존)\n",
        "trainer.save_model(\"./kogpt_prefix_model\")\n",
        "tokenizer.save_pretrained(\"./kogpt_prefix_model\")\n",
        "\n",
        "# 03. input 키워드 리스트로 확장하기\n",
        "input_keywords = [\"좋아\", \"행복\", \"겨울\"]\n",
        "inputs = tokenizer(input_keywords, return_tensors=\"pt\", padding=True)"
      ]
    }
  ],
  "metadata": {
    "accelerator": "GPU",
    "colab": {
      "gpuType": "T4",
      "provenance": []
    },
    "kernelspec": {
      "display_name": "Python 3",
      "name": "python3"
    },
    "language_info": {
      "name": "python"
    },
    "widgets": {
      "application/vnd.jupyter.widget-state+json": {
        "13687fb0e01e4b9b8309f03121bd531a": {
          "model_module": "@jupyter-widgets/controls",
          "model_module_version": "1.5.0",
          "model_name": "HBoxModel",
          "state": {
            "_dom_classes": [],
            "_model_module": "@jupyter-widgets/controls",
            "_model_module_version": "1.5.0",
            "_model_name": "HBoxModel",
            "_view_count": null,
            "_view_module": "@jupyter-widgets/controls",
            "_view_module_version": "1.5.0",
            "_view_name": "HBoxView",
            "box_style": "",
            "children": [
              "IPY_MODEL_57d9453dd0694c659882a1f7e34a7d2a",
              "IPY_MODEL_ed5333e39b8449daa8aa9792dc2bae5e",
              "IPY_MODEL_dc5a48c94343402f9d19e4380c7e6f8e"
            ],
            "layout": "IPY_MODEL_6515b6d6d5b24fc1b8fe288a26301879"
          }
        },
        "405382cbf6144035844bc5fc6d4088cc": {
          "model_module": "@jupyter-widgets/controls",
          "model_module_version": "1.5.0",
          "model_name": "ProgressStyleModel",
          "state": {
            "_model_module": "@jupyter-widgets/controls",
            "_model_module_version": "1.5.0",
            "_model_name": "ProgressStyleModel",
            "_view_count": null,
            "_view_module": "@jupyter-widgets/base",
            "_view_module_version": "1.2.0",
            "_view_name": "StyleView",
            "bar_color": null,
            "description_width": ""
          }
        },
        "57d9453dd0694c659882a1f7e34a7d2a": {
          "model_module": "@jupyter-widgets/controls",
          "model_module_version": "1.5.0",
          "model_name": "HTMLModel",
          "state": {
            "_dom_classes": [],
            "_model_module": "@jupyter-widgets/controls",
            "_model_module_version": "1.5.0",
            "_model_name": "HTMLModel",
            "_view_count": null,
            "_view_module": "@jupyter-widgets/controls",
            "_view_module_version": "1.5.0",
            "_view_name": "HTMLView",
            "description": "",
            "description_tooltip": null,
            "layout": "IPY_MODEL_e15e418d3ad545d1bafaa9b8d11bd633",
            "placeholder": "​",
            "style": "IPY_MODEL_b369bf8c7a904343b71e24e618c9bd22",
            "value": "Map: 100%"
          }
        },
        "5ac5983508d647d4a16bdc2bda766380": {
          "model_module": "@jupyter-widgets/base",
          "model_module_version": "1.2.0",
          "model_name": "LayoutModel",
          "state": {
            "_model_module": "@jupyter-widgets/base",
            "_model_module_version": "1.2.0",
            "_model_name": "LayoutModel",
            "_view_count": null,
            "_view_module": "@jupyter-widgets/base",
            "_view_module_version": "1.2.0",
            "_view_name": "LayoutView",
            "align_content": null,
            "align_items": null,
            "align_self": null,
            "border": null,
            "bottom": null,
            "display": null,
            "flex": null,
            "flex_flow": null,
            "grid_area": null,
            "grid_auto_columns": null,
            "grid_auto_flow": null,
            "grid_auto_rows": null,
            "grid_column": null,
            "grid_gap": null,
            "grid_row": null,
            "grid_template_areas": null,
            "grid_template_columns": null,
            "grid_template_rows": null,
            "height": null,
            "justify_content": null,
            "justify_items": null,
            "left": null,
            "margin": null,
            "max_height": null,
            "max_width": null,
            "min_height": null,
            "min_width": null,
            "object_fit": null,
            "object_position": null,
            "order": null,
            "overflow": null,
            "overflow_x": null,
            "overflow_y": null,
            "padding": null,
            "right": null,
            "top": null,
            "visibility": null,
            "width": null
          }
        },
        "6515b6d6d5b24fc1b8fe288a26301879": {
          "model_module": "@jupyter-widgets/base",
          "model_module_version": "1.2.0",
          "model_name": "LayoutModel",
          "state": {
            "_model_module": "@jupyter-widgets/base",
            "_model_module_version": "1.2.0",
            "_model_name": "LayoutModel",
            "_view_count": null,
            "_view_module": "@jupyter-widgets/base",
            "_view_module_version": "1.2.0",
            "_view_name": "LayoutView",
            "align_content": null,
            "align_items": null,
            "align_self": null,
            "border": null,
            "bottom": null,
            "display": null,
            "flex": null,
            "flex_flow": null,
            "grid_area": null,
            "grid_auto_columns": null,
            "grid_auto_flow": null,
            "grid_auto_rows": null,
            "grid_column": null,
            "grid_gap": null,
            "grid_row": null,
            "grid_template_areas": null,
            "grid_template_columns": null,
            "grid_template_rows": null,
            "height": null,
            "justify_content": null,
            "justify_items": null,
            "left": null,
            "margin": null,
            "max_height": null,
            "max_width": null,
            "min_height": null,
            "min_width": null,
            "object_fit": null,
            "object_position": null,
            "order": null,
            "overflow": null,
            "overflow_x": null,
            "overflow_y": null,
            "padding": null,
            "right": null,
            "top": null,
            "visibility": null,
            "width": null
          }
        },
        "652450431ed14f9f8146bff241db80f9": {
          "model_module": "@jupyter-widgets/controls",
          "model_module_version": "1.5.0",
          "model_name": "HTMLModel",
          "state": {
            "_dom_classes": [],
            "_model_module": "@jupyter-widgets/controls",
            "_model_module_version": "1.5.0",
            "_model_name": "HTMLModel",
            "_view_count": null,
            "_view_module": "@jupyter-widgets/controls",
            "_view_module_version": "1.5.0",
            "_view_name": "HTMLView",
            "description": "",
            "description_tooltip": null,
            "layout": "IPY_MODEL_91f2085342d244f9be63324f9d8fd27a",
            "placeholder": "​",
            "style": "IPY_MODEL_c303d78d5ec14b84804c0e3a6a945d62",
            "value": "Map: 100%"
          }
        },
        "653d72786f8f4a2babda8f741e89d90c": {
          "model_module": "@jupyter-widgets/base",
          "model_module_version": "1.2.0",
          "model_name": "LayoutModel",
          "state": {
            "_model_module": "@jupyter-widgets/base",
            "_model_module_version": "1.2.0",
            "_model_name": "LayoutModel",
            "_view_count": null,
            "_view_module": "@jupyter-widgets/base",
            "_view_module_version": "1.2.0",
            "_view_name": "LayoutView",
            "align_content": null,
            "align_items": null,
            "align_self": null,
            "border": null,
            "bottom": null,
            "display": null,
            "flex": null,
            "flex_flow": null,
            "grid_area": null,
            "grid_auto_columns": null,
            "grid_auto_flow": null,
            "grid_auto_rows": null,
            "grid_column": null,
            "grid_gap": null,
            "grid_row": null,
            "grid_template_areas": null,
            "grid_template_columns": null,
            "grid_template_rows": null,
            "height": null,
            "justify_content": null,
            "justify_items": null,
            "left": null,
            "margin": null,
            "max_height": null,
            "max_width": null,
            "min_height": null,
            "min_width": null,
            "object_fit": null,
            "object_position": null,
            "order": null,
            "overflow": null,
            "overflow_x": null,
            "overflow_y": null,
            "padding": null,
            "right": null,
            "top": null,
            "visibility": null,
            "width": null
          }
        },
        "6eb6b0b2833d42d4a623418d4c89d640": {
          "model_module": "@jupyter-widgets/base",
          "model_module_version": "1.2.0",
          "model_name": "LayoutModel",
          "state": {
            "_model_module": "@jupyter-widgets/base",
            "_model_module_version": "1.2.0",
            "_model_name": "LayoutModel",
            "_view_count": null,
            "_view_module": "@jupyter-widgets/base",
            "_view_module_version": "1.2.0",
            "_view_name": "LayoutView",
            "align_content": null,
            "align_items": null,
            "align_self": null,
            "border": null,
            "bottom": null,
            "display": null,
            "flex": null,
            "flex_flow": null,
            "grid_area": null,
            "grid_auto_columns": null,
            "grid_auto_flow": null,
            "grid_auto_rows": null,
            "grid_column": null,
            "grid_gap": null,
            "grid_row": null,
            "grid_template_areas": null,
            "grid_template_columns": null,
            "grid_template_rows": null,
            "height": null,
            "justify_content": null,
            "justify_items": null,
            "left": null,
            "margin": null,
            "max_height": null,
            "max_width": null,
            "min_height": null,
            "min_width": null,
            "object_fit": null,
            "object_position": null,
            "order": null,
            "overflow": null,
            "overflow_x": null,
            "overflow_y": null,
            "padding": null,
            "right": null,
            "top": null,
            "visibility": null,
            "width": null
          }
        },
        "8c615ea2ccd94849bfeb64f57733cb38": {
          "model_module": "@jupyter-widgets/controls",
          "model_module_version": "1.5.0",
          "model_name": "DescriptionStyleModel",
          "state": {
            "_model_module": "@jupyter-widgets/controls",
            "_model_module_version": "1.5.0",
            "_model_name": "DescriptionStyleModel",
            "_view_count": null,
            "_view_module": "@jupyter-widgets/base",
            "_view_module_version": "1.2.0",
            "_view_name": "StyleView",
            "description_width": ""
          }
        },
        "91f2085342d244f9be63324f9d8fd27a": {
          "model_module": "@jupyter-widgets/base",
          "model_module_version": "1.2.0",
          "model_name": "LayoutModel",
          "state": {
            "_model_module": "@jupyter-widgets/base",
            "_model_module_version": "1.2.0",
            "_model_name": "LayoutModel",
            "_view_count": null,
            "_view_module": "@jupyter-widgets/base",
            "_view_module_version": "1.2.0",
            "_view_name": "LayoutView",
            "align_content": null,
            "align_items": null,
            "align_self": null,
            "border": null,
            "bottom": null,
            "display": null,
            "flex": null,
            "flex_flow": null,
            "grid_area": null,
            "grid_auto_columns": null,
            "grid_auto_flow": null,
            "grid_auto_rows": null,
            "grid_column": null,
            "grid_gap": null,
            "grid_row": null,
            "grid_template_areas": null,
            "grid_template_columns": null,
            "grid_template_rows": null,
            "height": null,
            "justify_content": null,
            "justify_items": null,
            "left": null,
            "margin": null,
            "max_height": null,
            "max_width": null,
            "min_height": null,
            "min_width": null,
            "object_fit": null,
            "object_position": null,
            "order": null,
            "overflow": null,
            "overflow_x": null,
            "overflow_y": null,
            "padding": null,
            "right": null,
            "top": null,
            "visibility": null,
            "width": null
          }
        },
        "a622cc233e5240c591418c04a358f35b": {
          "model_module": "@jupyter-widgets/base",
          "model_module_version": "1.2.0",
          "model_name": "LayoutModel",
          "state": {
            "_model_module": "@jupyter-widgets/base",
            "_model_module_version": "1.2.0",
            "_model_name": "LayoutModel",
            "_view_count": null,
            "_view_module": "@jupyter-widgets/base",
            "_view_module_version": "1.2.0",
            "_view_name": "LayoutView",
            "align_content": null,
            "align_items": null,
            "align_self": null,
            "border": null,
            "bottom": null,
            "display": null,
            "flex": null,
            "flex_flow": null,
            "grid_area": null,
            "grid_auto_columns": null,
            "grid_auto_flow": null,
            "grid_auto_rows": null,
            "grid_column": null,
            "grid_gap": null,
            "grid_row": null,
            "grid_template_areas": null,
            "grid_template_columns": null,
            "grid_template_rows": null,
            "height": null,
            "justify_content": null,
            "justify_items": null,
            "left": null,
            "margin": null,
            "max_height": null,
            "max_width": null,
            "min_height": null,
            "min_width": null,
            "object_fit": null,
            "object_position": null,
            "order": null,
            "overflow": null,
            "overflow_x": null,
            "overflow_y": null,
            "padding": null,
            "right": null,
            "top": null,
            "visibility": null,
            "width": null
          }
        },
        "b369bf8c7a904343b71e24e618c9bd22": {
          "model_module": "@jupyter-widgets/controls",
          "model_module_version": "1.5.0",
          "model_name": "DescriptionStyleModel",
          "state": {
            "_model_module": "@jupyter-widgets/controls",
            "_model_module_version": "1.5.0",
            "_model_name": "DescriptionStyleModel",
            "_view_count": null,
            "_view_module": "@jupyter-widgets/base",
            "_view_module_version": "1.2.0",
            "_view_name": "StyleView",
            "description_width": ""
          }
        },
        "c2a5d7fef570412a8e7f3e9438c79b84": {
          "model_module": "@jupyter-widgets/controls",
          "model_module_version": "1.5.0",
          "model_name": "DescriptionStyleModel",
          "state": {
            "_model_module": "@jupyter-widgets/controls",
            "_model_module_version": "1.5.0",
            "_model_name": "DescriptionStyleModel",
            "_view_count": null,
            "_view_module": "@jupyter-widgets/base",
            "_view_module_version": "1.2.0",
            "_view_name": "StyleView",
            "description_width": ""
          }
        },
        "c303d78d5ec14b84804c0e3a6a945d62": {
          "model_module": "@jupyter-widgets/controls",
          "model_module_version": "1.5.0",
          "model_name": "DescriptionStyleModel",
          "state": {
            "_model_module": "@jupyter-widgets/controls",
            "_model_module_version": "1.5.0",
            "_model_name": "DescriptionStyleModel",
            "_view_count": null,
            "_view_module": "@jupyter-widgets/base",
            "_view_module_version": "1.2.0",
            "_view_name": "StyleView",
            "description_width": ""
          }
        },
        "ce4889c5c2f5460b8286b5a0945e4ac6": {
          "model_module": "@jupyter-widgets/controls",
          "model_module_version": "1.5.0",
          "model_name": "HTMLModel",
          "state": {
            "_dom_classes": [],
            "_model_module": "@jupyter-widgets/controls",
            "_model_module_version": "1.5.0",
            "_model_name": "HTMLModel",
            "_view_count": null,
            "_view_module": "@jupyter-widgets/controls",
            "_view_module_version": "1.5.0",
            "_view_name": "HTMLView",
            "description": "",
            "description_tooltip": null,
            "layout": "IPY_MODEL_653d72786f8f4a2babda8f741e89d90c",
            "placeholder": "​",
            "style": "IPY_MODEL_8c615ea2ccd94849bfeb64f57733cb38",
            "value": " 928/928 [00:00&lt;00:00, 1874.63 examples/s]"
          }
        },
        "d40c70aa29574527ad8a5eb7f17157f5": {
          "model_module": "@jupyter-widgets/controls",
          "model_module_version": "1.5.0",
          "model_name": "ProgressStyleModel",
          "state": {
            "_model_module": "@jupyter-widgets/controls",
            "_model_module_version": "1.5.0",
            "_model_name": "ProgressStyleModel",
            "_view_count": null,
            "_view_module": "@jupyter-widgets/base",
            "_view_module_version": "1.2.0",
            "_view_name": "StyleView",
            "bar_color": null,
            "description_width": ""
          }
        },
        "dc5a48c94343402f9d19e4380c7e6f8e": {
          "model_module": "@jupyter-widgets/controls",
          "model_module_version": "1.5.0",
          "model_name": "HTMLModel",
          "state": {
            "_dom_classes": [],
            "_model_module": "@jupyter-widgets/controls",
            "_model_module_version": "1.5.0",
            "_model_name": "HTMLModel",
            "_view_count": null,
            "_view_module": "@jupyter-widgets/controls",
            "_view_module_version": "1.5.0",
            "_view_name": "HTMLView",
            "description": "",
            "description_tooltip": null,
            "layout": "IPY_MODEL_6eb6b0b2833d42d4a623418d4c89d640",
            "placeholder": "​",
            "style": "IPY_MODEL_c2a5d7fef570412a8e7f3e9438c79b84",
            "value": " 3712/3712 [00:03&lt;00:00, 954.93 examples/s]"
          }
        },
        "dee007a0c3b140cf846e2c727e70f2e9": {
          "model_module": "@jupyter-widgets/controls",
          "model_module_version": "1.5.0",
          "model_name": "FloatProgressModel",
          "state": {
            "_dom_classes": [],
            "_model_module": "@jupyter-widgets/controls",
            "_model_module_version": "1.5.0",
            "_model_name": "FloatProgressModel",
            "_view_count": null,
            "_view_module": "@jupyter-widgets/controls",
            "_view_module_version": "1.5.0",
            "_view_name": "ProgressView",
            "bar_style": "success",
            "description": "",
            "description_tooltip": null,
            "layout": "IPY_MODEL_a622cc233e5240c591418c04a358f35b",
            "max": 928,
            "min": 0,
            "orientation": "horizontal",
            "style": "IPY_MODEL_405382cbf6144035844bc5fc6d4088cc",
            "value": 928
          }
        },
        "e15e418d3ad545d1bafaa9b8d11bd633": {
          "model_module": "@jupyter-widgets/base",
          "model_module_version": "1.2.0",
          "model_name": "LayoutModel",
          "state": {
            "_model_module": "@jupyter-widgets/base",
            "_model_module_version": "1.2.0",
            "_model_name": "LayoutModel",
            "_view_count": null,
            "_view_module": "@jupyter-widgets/base",
            "_view_module_version": "1.2.0",
            "_view_name": "LayoutView",
            "align_content": null,
            "align_items": null,
            "align_self": null,
            "border": null,
            "bottom": null,
            "display": null,
            "flex": null,
            "flex_flow": null,
            "grid_area": null,
            "grid_auto_columns": null,
            "grid_auto_flow": null,
            "grid_auto_rows": null,
            "grid_column": null,
            "grid_gap": null,
            "grid_row": null,
            "grid_template_areas": null,
            "grid_template_columns": null,
            "grid_template_rows": null,
            "height": null,
            "justify_content": null,
            "justify_items": null,
            "left": null,
            "margin": null,
            "max_height": null,
            "max_width": null,
            "min_height": null,
            "min_width": null,
            "object_fit": null,
            "object_position": null,
            "order": null,
            "overflow": null,
            "overflow_x": null,
            "overflow_y": null,
            "padding": null,
            "right": null,
            "top": null,
            "visibility": null,
            "width": null
          }
        },
        "e6ea22d3ecdf4a2dbe5d9a87195e588b": {
          "model_module": "@jupyter-widgets/controls",
          "model_module_version": "1.5.0",
          "model_name": "HBoxModel",
          "state": {
            "_dom_classes": [],
            "_model_module": "@jupyter-widgets/controls",
            "_model_module_version": "1.5.0",
            "_model_name": "HBoxModel",
            "_view_count": null,
            "_view_module": "@jupyter-widgets/controls",
            "_view_module_version": "1.5.0",
            "_view_name": "HBoxView",
            "box_style": "",
            "children": [
              "IPY_MODEL_652450431ed14f9f8146bff241db80f9",
              "IPY_MODEL_dee007a0c3b140cf846e2c727e70f2e9",
              "IPY_MODEL_ce4889c5c2f5460b8286b5a0945e4ac6"
            ],
            "layout": "IPY_MODEL_fdd35057d10049f696b52ba51fafa162"
          }
        },
        "ed5333e39b8449daa8aa9792dc2bae5e": {
          "model_module": "@jupyter-widgets/controls",
          "model_module_version": "1.5.0",
          "model_name": "FloatProgressModel",
          "state": {
            "_dom_classes": [],
            "_model_module": "@jupyter-widgets/controls",
            "_model_module_version": "1.5.0",
            "_model_name": "FloatProgressModel",
            "_view_count": null,
            "_view_module": "@jupyter-widgets/controls",
            "_view_module_version": "1.5.0",
            "_view_name": "ProgressView",
            "bar_style": "success",
            "description": "",
            "description_tooltip": null,
            "layout": "IPY_MODEL_5ac5983508d647d4a16bdc2bda766380",
            "max": 3712,
            "min": 0,
            "orientation": "horizontal",
            "style": "IPY_MODEL_d40c70aa29574527ad8a5eb7f17157f5",
            "value": 3712
          }
        },
        "fdd35057d10049f696b52ba51fafa162": {
          "model_module": "@jupyter-widgets/base",
          "model_module_version": "1.2.0",
          "model_name": "LayoutModel",
          "state": {
            "_model_module": "@jupyter-widgets/base",
            "_model_module_version": "1.2.0",
            "_model_name": "LayoutModel",
            "_view_count": null,
            "_view_module": "@jupyter-widgets/base",
            "_view_module_version": "1.2.0",
            "_view_name": "LayoutView",
            "align_content": null,
            "align_items": null,
            "align_self": null,
            "border": null,
            "bottom": null,
            "display": null,
            "flex": null,
            "flex_flow": null,
            "grid_area": null,
            "grid_auto_columns": null,
            "grid_auto_flow": null,
            "grid_auto_rows": null,
            "grid_column": null,
            "grid_gap": null,
            "grid_row": null,
            "grid_template_areas": null,
            "grid_template_columns": null,
            "grid_template_rows": null,
            "height": null,
            "justify_content": null,
            "justify_items": null,
            "left": null,
            "margin": null,
            "max_height": null,
            "max_width": null,
            "min_height": null,
            "min_width": null,
            "object_fit": null,
            "object_position": null,
            "order": null,
            "overflow": null,
            "overflow_x": null,
            "overflow_y": null,
            "padding": null,
            "right": null,
            "top": null,
            "visibility": null,
            "width": null
          }
        }
      }
    }
  },
  "nbformat": 4,
  "nbformat_minor": 0
}
