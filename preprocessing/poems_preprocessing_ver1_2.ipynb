{
  "nbformat": 4,
  "nbformat_minor": 0,
  "metadata": {
    "colab": {
      "provenance": []
    },
    "kernelspec": {
      "name": "python3",
      "display_name": "Python 3"
    },
    "language_info": {
      "name": "python"
    }
  },
  "cells": [
    {
      "cell_type": "code",
      "execution_count": null,
      "metadata": {
        "id": "Ej5JrPtzZPe4"
      },
      "outputs": [],
      "source": [
        "# modules\n",
        "import pandas as pd\n",
        "import re"
      ]
    },
    {
      "cell_type": "markdown",
      "source": [
        "전처리1 - '내용' 영문,일문 버전 제거 및 '제목' 시인정보 제거"
      ],
      "metadata": {
        "id": "VMtKUfhnd8BK"
      }
    },
    {
      "cell_type": "code",
      "source": [
        "df = pd.read_csv('poems_4151.csv', encoding='cp949')"
      ],
      "metadata": {
        "id": "0o3fp2mNZZon"
      },
      "execution_count": null,
      "outputs": []
    },
    {
      "cell_type": "markdown",
      "source": [
        "인코딩(Encoding)\n",
        ": 문자 -> 숫자 vector 변환"
      ],
      "metadata": {
        "id": "eAQZKzLcSdkz"
      }
    },
    {
      "cell_type": "markdown",
      "source": [
        "1. ***utf-8***: 전세계 표준. 한글 3바이트 변환\n",
        "2. ***utf-8-sig***: BOM(Byte Order Mark) 서명 3바이트 + utf-8 버전. BOM 추가로 utf-8 인식 정확도 보장(windows 호환성 강화)\n",
        "3. ***cp949***: windows 기본 한국 인코딩. 한글 완성형 2바이트 표현"
      ],
      "metadata": {
        "id": "fhIEYx9ISmpv"
      }
    },
    {
      "cell_type": "markdown",
      "source": [
        "인코딩 확인 방법: 메모장으로 열기 → 다른 이름으로 저장 → 인코딩 확인"
      ],
      "metadata": {
        "id": "_hsxcYACUmzm"
      }
    },
    {
      "cell_type": "code",
      "source": [
        "# 제목 정리\n",
        "def clean_title(title):\n",
        "    title = title.split('/')[0].strip()\n",
        "    title = re.sub(r'\\(.*?\\)', '', title)  # 한자 괄호 제거\n",
        "    return title.strip()\n",
        "\n",
        "df['제목'] = df['제목'].apply(clean_title)"
      ],
      "metadata": {
        "id": "7NjxyWrjZ9xu"
      },
      "execution_count": null,
      "outputs": []
    },
    {
      "cell_type": "code",
      "source": [
        "# 내용 정리(한문 버전만 남도록)\n",
        "def keep_korean_section(text):\n",
        "    lines = text.strip().split('\\n')\n",
        "    new_lines = []\n",
        "    for line in lines:\n",
        "        if re.match(r'^\\s*[-‐‑‒–—―ー]{3,}\\s*$', line): # 공백 고려 포함\n",
        "          break\n",
        "        new_lines.append(line)\n",
        "    return '\\n'.join(new_lines)"
      ],
      "metadata": {
        "id": "vSN0r8YaaAZ-"
      },
      "execution_count": null,
      "outputs": []
    },
    {
      "cell_type": "code",
      "source": [
        "# '내용' 데이터의 마지막 줄 날짜 정보 제거\n",
        "def remove_trailing_date(text):\n",
        "    lines = text.strip().split('\\n')\n",
        "    if lines and re.match(r'^\\d{4}[,.]\\d{1,2}[,.]\\d{1,2}$', lines[-1]):\n",
        "        lines.pop()\n",
        "    return '\\n'.join(lines)"
      ],
      "metadata": {
        "id": "a152N3EicqAd"
      },
      "execution_count": null,
      "outputs": []
    },
    {
      "cell_type": "code",
      "source": [
        "def pp_ver1_content(text):\n",
        "    text = keep_korean_section(text) # 영문/일문 제거\n",
        "    text = remove_trailing_date(text) # 마지막줄 날짜 제거\n",
        "    return text"
      ],
      "metadata": {
        "id": "KBd46H1AgnlR"
      },
      "execution_count": null,
      "outputs": []
    },
    {
      "cell_type": "code",
      "source": [
        "df['내용'] = df['내용'].apply(pp_ver1_content)\n",
        "df.to_csv(\"poems_pp_ver1.csv\", index=False, encoding='utf-8-sig')"
      ],
      "metadata": {
        "id": "zOpozPNTglBw"
      },
      "execution_count": null,
      "outputs": []
    },
    {
      "cell_type": "markdown",
      "source": [
        "전처리2 - '제목', '내용' 중복 데이터 제거 및 시인 정보 제거"
      ],
      "metadata": {
        "id": "U8iHf1UBd0fC"
      }
    },
    {
      "cell_type": "code",
      "source": [
        "df_pp_ver1 = pd.read_csv('poems_pp_ver1.csv', encoding='utf-8')"
      ],
      "metadata": {
        "id": "RU7ISHW4eEXS"
      },
      "execution_count": null,
      "outputs": []
    },
    {
      "cell_type": "code",
      "source": [
        "def handling_content(title, content):\n",
        "    lines = content.strip().split('\\n') # content 줄 단위 쪼개기(lines = list[str])\n",
        "    cleaned_lines = []\n",
        "    skip = 0\n",
        "\n",
        "    # 불필요 데이터(제목, 시인, 한자 정보) 제거\n",
        "    for i, line in enumerate(lines):\n",
        "        # line = 리스트(lines) 中 한 줄(lines[i])\n",
        "        line_clean = line.strip() # line 공백 제거\n",
        "\n",
        "        # 검사 대상: 첫번째줄 ~ 세번째줄\n",
        "        if skip < 3:\n",
        "            # 경우1) 제목 일치\n",
        "            if line_clean == title:\n",
        "                skip += 1\n",
        "                continue\n",
        "            # 경우2) 제목+한문\n",
        "            if re.sub(r'[^\\w가-힣]', '', line_clean) == re.sub(r'[^\\w가-힣]', '', title):\n",
        "                skip += 1\n",
        "                continue\n",
        "            # 경우3) 제목/~\n",
        "            if line_clean.startswith(title) and '/' in line_clean:\n",
        "                skip += 1\n",
        "                continue\n",
        "            # 경우4) 제목과 관계없이 한글/한자/이름/공백으로만\n",
        "            if re.match(r'^[가-힣ㄱ-ㅎㅏ-ㅣ·/\\s一-龥]+$', line_clean):\n",
        "                skip += 1\n",
        "                continue\n",
        "            # 경우5) 제목(한문)\n",
        "            if re.match(rf'^{re.escape(title)}\\([一-龥]+\\)$', line_clean):\n",
        "                skip += 1\n",
        "                continue\n",
        "\n",
        "\n",
        "        # '제목' 중복 데이터 제거한 '내용' 데이터(cleaned_lines) 저장\n",
        "        cleaned_lines.append(line_clean)\n",
        "\n",
        "    return '\\n'.join(cleaned_lines)"
      ],
      "metadata": {
        "id": "_XCykNkIeJz2"
      },
      "execution_count": null,
      "outputs": []
    },
    {
      "cell_type": "code",
      "source": [
        "df_pp_ver1['내용'] = df_pp_ver1.apply(\n",
        "    lambda x: handling_content(x['제목'], x['내용']),\n",
        "    axis=1)\n",
        "    # lambda x, axis=1 => 각 행(Series)마다 함수(중복 데이터 검사) 실행\n",
        "\n",
        "# 빈 문자열 제거\n",
        "df_pp_ver1 = df_pp_ver1[df_pp_ver1['내용'].str.strip() != '']\n",
        "\n",
        "df_pp_ver1.to_csv(\"poems_pp_ver2.csv\", index=False, encoding='utf-8-sig')"
      ],
      "metadata": {
        "id": "eUK6S1qVTfHK"
      },
      "execution_count": null,
      "outputs": []
    }
  ]
}